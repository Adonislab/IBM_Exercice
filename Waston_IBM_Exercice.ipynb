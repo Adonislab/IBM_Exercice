{
 "cells": [
  {
   "cell_type": "markdown",
   "id": "24f9b960-47c9-4af1-80b3-e34e48ffad37",
   "metadata": {
    "tags": []
   },
   "source": [
    "# My Jupyter Notebook on IBM Watson Studio"
   ]
  },
  {
   "cell_type": "markdown",
   "id": "36045fda-c627-4519-92a2-82007ead3812",
   "metadata": {},
   "source": [
    "**NOBIME Tanguy Adonis**"
   ]
  },
  {
   "cell_type": "markdown",
   "id": "205f2bf5-b45a-4dfa-bab0-99b49bc5e1a1",
   "metadata": {},
   "source": [
    "Data Science"
   ]
  },
  {
   "cell_type": "markdown",
   "id": "d63744c2-d322-4ce5-8a4f-bdb041454006",
   "metadata": {},
   "source": [
    "*I am interested in data science because it is sexy work*\n",
    "*I am interested in data science because it is programming work for artificial intelligence*"
   ]
  },
  {
   "cell_type": "markdown",
   "id": "a4136a73-8402-44d7-bded-345cd5b4a0b9",
   "metadata": {},
   "source": [
    "### This next cellule will print 'Hello World'"
   ]
  },
  {
   "cell_type": "code",
   "execution_count": 3,
   "id": "3f058b4d-9d9d-4495-867e-c7f8bc7a2a65",
   "metadata": {},
   "outputs": [
    {
     "name": "stdout",
     "output_type": "stream",
     "text": [
      "Hello World\n"
     ]
    }
   ],
   "source": [
    "print(\"Hello World\")"
   ]
  },
  {
   "cell_type": "markdown",
   "id": "52d3fafa-4f43-4a5e-99c7-5642764cc3ae",
   "metadata": {},
   "source": [
    "## Data Science\n",
    "Data science is a science like :\n",
    "-Maths\n",
    "-Biologie\n",
    "-Mecanics\n",
    "You can give more information [here](https://google.com/)\n",
    "\n",
    "You can use notebook\n",
    "| Colonne 1 | Colonne 2|\n",
    "| :--------------------- | :--------------- |\n",
    "| One | two |\n",
    "| Tree | for |\n",
    "\n",
    "------\n",
    "\n",
    "| :----- | :----- |\n",
    "| Sans titres de colonne | Deuxième colonne |\n",
    "| 1 | 2 |\n",
    "| 3 | 4 |"
   ]
  },
  {
   "cell_type": "code",
   "execution_count": 4,
   "id": "254bc3d2-4cb6-490f-91c0-6752fedad0ae",
   "metadata": {},
   "outputs": [
    {
     "name": "stdout",
     "output_type": "stream",
     "text": [
      "I finish\n"
     ]
    }
   ],
   "source": [
    "print('I finish')"
   ]
  },
  {
   "cell_type": "code",
   "execution_count": null,
   "id": "bf05c4ce-abc4-4b43-8a4d-45ee00dd6f7c",
   "metadata": {},
   "outputs": [],
   "source": []
  }
 ],
 "metadata": {
  "kernelspec": {
   "display_name": "Python",
   "language": "python",
   "name": "conda-env-python-py"
  },
  "language_info": {
   "codemirror_mode": {
    "name": "ipython",
    "version": 3
   },
   "file_extension": ".py",
   "mimetype": "text/x-python",
   "name": "python",
   "nbconvert_exporter": "python",
   "pygments_lexer": "ipython3",
   "version": "3.7.12"
  }
 },
 "nbformat": 4,
 "nbformat_minor": 5
}
